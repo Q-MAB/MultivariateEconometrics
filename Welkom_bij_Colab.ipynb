{
  "cells": [
    {
      "cell_type": "markdown",
      "metadata": {
        "id": "view-in-github",
        "colab_type": "text"
      },
      "source": [
        "<a href=\"https://colab.research.google.com/github/Q-MAB/MultivariateEconometrics/blob/main/Welkom_bij_Colab.ipynb\" target=\"_parent\"><img src=\"https://colab.research.google.com/assets/colab-badge.svg\" alt=\"Open In Colab\"/></a>"
      ]
    },
    {
      "cell_type": "code",
      "source": [
        "import pandas as pd\n",
        "import numpy as np\n",
        "import tensorflow as tf\n",
        "import tensorflow_probability as tfp\n",
        "\n",
        "# Load the CSV file\n",
        "df = pd.read_csv('repeat_sales_pairs.csv', sep=';', decimal=',')\n",
        "\n",
        "# Convert 'current_time' to datetime\n",
        "df['current_time'] = pd.to_datetime(df['current_time'], format='%Y-%m')\n",
        "\n",
        "# Convert 'log_return' to float\n",
        "df['log_return'] = df['log_return'].astype(float)\n",
        "\n",
        "# Create 'x' based on 'time_gap'\n",
        "df['x'] = np.where(df['time_gap'] <= 6, 1.0 / df['time_gap'], 0.0)\n",
        "\n",
        "# Drop any NaNs in 'log_return' or 'x', and any zeros\n",
        "df = df.dropna(subset=['log_return', 'x'])\n",
        "df = df[(df['log_return'] != 0) & (df['x'] != 0)]\n",
        "\n",
        "# Prepare data for TensorFlow\n",
        "log_returns = tf.constant(df['log_return'].values, dtype=tf.float32)\n",
        "time_gaps = tf.constant(df['time_gap'].values, dtype=tf.float32)\n",
        "x_values = tf.constant(df['x'].values, dtype=tf.float32)\n",
        "\n",
        "# Display the first few rows of the processed dataframe\n",
        "print(df.head())"
      ],
      "metadata": {
        "colab": {
          "base_uri": "https://localhost:8080/"
        },
        "id": "6MbPPGvHsvJB",
        "outputId": "96009ed8-a761-4831-9716-4953e4445b6e"
      },
      "execution_count": 1,
      "outputs": [
        {
          "output_type": "stream",
          "name": "stdout",
          "text": [
            "   identifier id_type combined_id previous_time current_time  log_return  \\\n",
            "2        1027    bgid   bgid_1027       2021-01   2021-05-01    -0.00356   \n",
            "3        1027    bgid   bgid_1027       2021-05   2021-08-01     0.01767   \n",
            "5        1027    bgid   bgid_1027       2022-04   2022-05-01     0.03223   \n",
            "7        1027    bgid   bgid_1027       2022-12   2023-01-01    -0.13256   \n",
            "9        1027    bgid   bgid_1027       2023-09   2023-12-01     0.02866   \n",
            "\n",
            "   time_gap  avg_buyer_price_eur_previous  avg_buyer_price_eur_current  age  \\\n",
            "2         4                           563                          561   21   \n",
            "3         3                           561                          571   21   \n",
            "5         1                           580                          599   21   \n",
            "7         1                           588                          515   21   \n",
            "9         3                           516                          531   21   \n",
            "\n",
            "       brand bottler  num_trades  vintage_year brand_region  bottle_count  \\\n",
            "2  Glenlivet     NaN           1           NaN     Speyside         794.0   \n",
            "3  Glenlivet     NaN           1           NaN     Speyside         794.0   \n",
            "5  Glenlivet     NaN           1           NaN     Speyside         794.0   \n",
            "7  Glenlivet     NaN           1           NaN     Speyside         794.0   \n",
            "9  Glenlivet     NaN           1           NaN     Speyside         794.0   \n",
            "\n",
            "          x  \n",
            "2  0.250000  \n",
            "3  0.333333  \n",
            "5  1.000000  \n",
            "7  1.000000  \n",
            "9  0.333333  \n"
          ]
        }
      ]
    },
    {
      "cell_type": "code",
      "source": [
        "import pandas as pd\n",
        "import numpy as np\n",
        "import matplotlib.pyplot as plt\n",
        "import tensorflow as tf\n",
        "import tensorflow_probability as tfp\n",
        "\n",
        "# Aliases\n",
        "tfd = tfp.distributions\n",
        "tfb = tfp.bijectors\n",
        "sts = tfp.sts\n",
        "\n",
        "# 1) LOAD & PREPARE DATA\n",
        "# -----------------------------------------------------------------------------\n",
        "df = pd.read_csv(\n",
        "    'repeat_sales_pairs.csv',\n",
        "    sep=';',\n",
        "    decimal=',',\n",
        "    parse_dates=['current_time'],\n",
        "    date_parser=lambda s: pd.to_datetime(s, format='%Y-%m')\n",
        ")\n",
        "\n",
        "# cast and filter\n",
        "df['log_return'] = pd.to_numeric(df['log_return'], errors='coerce')\n",
        "df = df.dropna(subset=['log_return', 'time_gap'])\n",
        "df = df[df['time_gap'] > 0]\n",
        "\n",
        "# compute x feature if you still need it — e.g. inverse time gap for short gaps\n",
        "df['x'] = np.where(df['time_gap'] <= 6, 1.0 / df['time_gap'], 0.0)\n",
        "\n",
        "# ensure monotonic monthly index\n",
        "df = df.set_index('current_time').sort_index()\n",
        "# if you have missing months and want to fill (optional):\n",
        "# idx = pd.date_range(df.index.min(), df.index.max(), freq='MS')\n",
        "# df = df.reindex(idx).interpolate()  # or fillna(0), as appropriate\n",
        "\n",
        "# extract observations\n",
        "observations = df['log_return'].values.astype(np.float32)\n",
        "num_timesteps = len(observations)\n",
        "time_index = df.index  # DatetimeIndex for mapping back later\n",
        "\n",
        "# 2) BUILD THE STATE-SPACE MODEL\n",
        "# -----------------------------------------------------------------------------\n",
        "# learnable observation noise scale with Student's t for robustness\n",
        "obs_scale = tfp.util.TransformedVariable(\n",
        "    0.1, tfb.Softplus(), dtype=tf.float32, name='obs_scale'\n",
        ")\n",
        "observation_noise = tfd.StudentT(\n",
        "    df=tf.constant(4.0, dtype=tf.float32),\n",
        "    loc=0.,\n",
        "    scale=obs_scale\n",
        ")\n",
        "\n",
        "model = sts.LocalLinearTrendStateSpaceModel(\n",
        "    num_timesteps=num_timesteps,\n",
        "    level_scale_prior=sts.LogNormalPrior(loc=0., scale=1.),\n",
        "    slope_scale_prior=sts.LogNormalPrior(loc=0., scale=1.),\n",
        "    observation_noise=observation_noise,\n",
        "    initial_state_prior=sts.MultivariateNormalDiag(\n",
        "        loc=[0., 0.],\n",
        "        scale_diag=[1., 1.]\n",
        "    )\n",
        ")\n",
        "\n",
        "# 3) SET UP VARIATIONAL INFERENCE\n",
        "# -----------------------------------------------------------------------------\n",
        "surrogate_posterior = sts.build_factored_surrogate_posterior(\n",
        "    model=model\n",
        ")\n",
        "\n",
        "# fit via variational inference\n",
        "optimizer = tf.optimizers.Adam(learning_rate=0.05)\n",
        "\n",
        "@tf.function(experimental_compile=True)\n",
        "def run_vi(num_steps):\n",
        "    return tfp.vi.fit_surrogate_posterior(\n",
        "        target_log_prob_fn=model.joint_log_prob(observations),\n",
        "        surrogate_posterior=surrogate_posterior,\n",
        "        optimizer=optimizer,\n",
        "        num_steps=num_steps\n",
        "    )\n",
        "\n",
        "# 4) TRAIN\n",
        "# -----------------------------------------------------------------------------\n",
        "num_vi_steps = 500\n",
        "loss_history = run_vi(num_vi_steps)\n",
        "\n",
        "# 5) EXTRACT POSTERIOR MEANS & PLOT βₜ\n",
        "# -----------------------------------------------------------------------------\n",
        "# draw samples from the variational posterior\n",
        "q_samples = surrogate_posterior.sample(400)\n",
        "\n",
        "# latent state dims: [..., level, slope]\n",
        "level_samples = q_samples[..., 0]\n",
        "slope_samples = q_samples[..., 1]\n",
        "\n",
        "# compute posterior mean of slope at each time\n",
        "mean_slope = tf.reduce_mean(slope_samples, axis=0).numpy()\n",
        "\n",
        "# map back to date index & plot\n",
        "slope_series = pd.Series(mean_slope, index=time_index)\n",
        "\n",
        "plt.figure(figsize=(10, 4))\n",
        "slope_series.plot()\n",
        "plt.title(\"Posterior Mean of βₜ (Slope) Over Time\")\n",
        "plt.xlabel(\"Date\")\n",
        "plt.ylabel(\"βₜ\")\n",
        "plt.tight_layout()\n",
        "plt.show()"
      ],
      "metadata": {
        "id": "7JgIXY9q6c0l",
        "outputId": "4ee9d3a8-6529-4f41-85a7-7998746a49d9",
        "colab": {
          "base_uri": "https://localhost:8080/",
          "height": 265
        }
      },
      "execution_count": 5,
      "outputs": [
        {
          "output_type": "stream",
          "name": "stderr",
          "text": [
            "<ipython-input-5-fd72620afde6>:14: FutureWarning: The argument 'date_parser' is deprecated and will be removed in a future version. Please use 'date_format' instead, or read your data in as 'object' dtype and then call 'to_datetime'.\n",
            "  df = pd.read_csv(\n"
          ]
        },
        {
          "output_type": "error",
          "ename": "AttributeError",
          "evalue": "module 'tensorflow_probability.python.sts' has no attribute 'LogNormalPrior'",
          "traceback": [
            "\u001b[0;31m---------------------------------------------------------------------------\u001b[0m",
            "\u001b[0;31mAttributeError\u001b[0m                            Traceback (most recent call last)",
            "\u001b[0;32m<ipython-input-5-fd72620afde6>\u001b[0m in \u001b[0;36m<cell line: 0>\u001b[0;34m()\u001b[0m\n\u001b[1;32m     53\u001b[0m model = sts.LocalLinearTrendStateSpaceModel(\n\u001b[1;32m     54\u001b[0m     \u001b[0mnum_timesteps\u001b[0m\u001b[0;34m=\u001b[0m\u001b[0mnum_timesteps\u001b[0m\u001b[0;34m,\u001b[0m\u001b[0;34m\u001b[0m\u001b[0;34m\u001b[0m\u001b[0m\n\u001b[0;32m---> 55\u001b[0;31m     \u001b[0mlevel_scale_prior\u001b[0m\u001b[0;34m=\u001b[0m\u001b[0msts\u001b[0m\u001b[0;34m.\u001b[0m\u001b[0mLogNormalPrior\u001b[0m\u001b[0;34m(\u001b[0m\u001b[0mloc\u001b[0m\u001b[0;34m=\u001b[0m\u001b[0;36m0.\u001b[0m\u001b[0;34m,\u001b[0m \u001b[0mscale\u001b[0m\u001b[0;34m=\u001b[0m\u001b[0;36m1.\u001b[0m\u001b[0;34m)\u001b[0m\u001b[0;34m,\u001b[0m\u001b[0;34m\u001b[0m\u001b[0;34m\u001b[0m\u001b[0m\n\u001b[0m\u001b[1;32m     56\u001b[0m     \u001b[0mslope_scale_prior\u001b[0m\u001b[0;34m=\u001b[0m\u001b[0msts\u001b[0m\u001b[0;34m.\u001b[0m\u001b[0mLogNormalPrior\u001b[0m\u001b[0;34m(\u001b[0m\u001b[0mloc\u001b[0m\u001b[0;34m=\u001b[0m\u001b[0;36m0.\u001b[0m\u001b[0;34m,\u001b[0m \u001b[0mscale\u001b[0m\u001b[0;34m=\u001b[0m\u001b[0;36m1.\u001b[0m\u001b[0;34m)\u001b[0m\u001b[0;34m,\u001b[0m\u001b[0;34m\u001b[0m\u001b[0;34m\u001b[0m\u001b[0m\n\u001b[1;32m     57\u001b[0m     \u001b[0mobservation_noise\u001b[0m\u001b[0;34m=\u001b[0m\u001b[0mobservation_noise\u001b[0m\u001b[0;34m,\u001b[0m\u001b[0;34m\u001b[0m\u001b[0;34m\u001b[0m\u001b[0m\n",
            "\u001b[0;31mAttributeError\u001b[0m: module 'tensorflow_probability.python.sts' has no attribute 'LogNormalPrior'"
          ]
        }
      ]
    },
    {
      "cell_type": "code",
      "source": [
        "!pip install tensorflow-probability==0.18.0"
      ],
      "metadata": {
        "id": "o8zT_kiwIZfG",
        "outputId": "0b0b7e86-7db5-43f2-a84c-9ffa705afbdd",
        "colab": {
          "base_uri": "https://localhost:8080/",
          "height": 464
        }
      },
      "execution_count": 6,
      "outputs": [
        {
          "output_type": "stream",
          "name": "stdout",
          "text": [
            "Collecting tensorflow-probability==0.18.0\n",
            "  Downloading tensorflow_probability-0.18.0-py2.py3-none-any.whl.metadata (13 kB)\n",
            "Requirement already satisfied: absl-py in /usr/local/lib/python3.11/dist-packages (from tensorflow-probability==0.18.0) (1.4.0)\n",
            "Requirement already satisfied: six>=1.10.0 in /usr/local/lib/python3.11/dist-packages (from tensorflow-probability==0.18.0) (1.17.0)\n",
            "Requirement already satisfied: numpy>=1.13.3 in /usr/local/lib/python3.11/dist-packages (from tensorflow-probability==0.18.0) (2.0.2)\n",
            "Requirement already satisfied: decorator in /usr/local/lib/python3.11/dist-packages (from tensorflow-probability==0.18.0) (4.4.2)\n",
            "Requirement already satisfied: cloudpickle>=1.3 in /usr/local/lib/python3.11/dist-packages (from tensorflow-probability==0.18.0) (3.1.1)\n",
            "Requirement already satisfied: gast>=0.3.2 in /usr/local/lib/python3.11/dist-packages (from tensorflow-probability==0.18.0) (0.6.0)\n",
            "Requirement already satisfied: dm-tree in /usr/local/lib/python3.11/dist-packages (from tensorflow-probability==0.18.0) (0.1.9)\n",
            "Requirement already satisfied: attrs>=18.2.0 in /usr/local/lib/python3.11/dist-packages (from dm-tree->tensorflow-probability==0.18.0) (25.3.0)\n",
            "Requirement already satisfied: wrapt>=1.11.2 in /usr/local/lib/python3.11/dist-packages (from dm-tree->tensorflow-probability==0.18.0) (1.17.2)\n",
            "Downloading tensorflow_probability-0.18.0-py2.py3-none-any.whl (6.6 MB)\n",
            "\u001b[2K   \u001b[90m━━━━━━━━━━━━━━━━━━━━━━━━━━━━━━━━━━━━━━━━\u001b[0m \u001b[32m6.6/6.6 MB\u001b[0m \u001b[31m39.6 MB/s\u001b[0m eta \u001b[36m0:00:00\u001b[0m\n",
            "\u001b[?25hInstalling collected packages: tensorflow-probability\n",
            "  Attempting uninstall: tensorflow-probability\n",
            "    Found existing installation: tensorflow-probability 0.25.0\n",
            "    Uninstalling tensorflow-probability-0.25.0:\n",
            "      Successfully uninstalled tensorflow-probability-0.25.0\n",
            "Successfully installed tensorflow-probability-0.18.0\n"
          ]
        },
        {
          "output_type": "display_data",
          "data": {
            "application/vnd.colab-display-data+json": {
              "pip_warning": {
                "packages": [
                  "tensorflow_probability"
                ]
              },
              "id": "80b5cf65fa554f1bb44a36dacbb194b7"
            }
          },
          "metadata": {}
        }
      ]
    }
  ],
  "metadata": {
    "colab": {
      "name": "Welkom bij Colab",
      "provenance": [],
      "include_colab_link": true
    },
    "kernelspec": {
      "display_name": "Python 3",
      "name": "python3"
    }
  },
  "nbformat": 4,
  "nbformat_minor": 0
}